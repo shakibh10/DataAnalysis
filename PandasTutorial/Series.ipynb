{
 "cells": [
  {
   "cell_type": "code",
   "execution_count": 1,
   "id": "63f7d4d3",
   "metadata": {},
   "outputs": [],
   "source": [
    "import pandas as pd "
   ]
  },
  {
   "cell_type": "code",
   "execution_count": 3,
   "id": "12efa332",
   "metadata": {},
   "outputs": [
    {
     "data": {
      "text/plain": [
       "0         shakib\n",
       "1          Tamim\n",
       "2       Masrafee\n",
       "3       Musfique\n",
       "4    Mahmudullah\n",
       "dtype: object"
      ]
     },
     "execution_count": 3,
     "metadata": {},
     "output_type": "execute_result"
    }
   ],
   "source": [
    "pd.Series(['shakib','Tamim','Masrafee','Musfique','Mahmudullah'])"
   ]
  },
  {
   "cell_type": "code",
   "execution_count": 4,
   "id": "bb9a98f3",
   "metadata": {},
   "outputs": [
    {
     "data": {
      "text/plain": [
       "0    1\n",
       "1    2\n",
       "2    3\n",
       "3    4\n",
       "4    5\n",
       "dtype: int64"
      ]
     },
     "execution_count": 4,
     "metadata": {},
     "output_type": "execute_result"
    }
   ],
   "source": [
    "pd.Series([1,2,3,4,5])"
   ]
  },
  {
   "cell_type": "code",
   "execution_count": 5,
   "id": "a1d127ed",
   "metadata": {},
   "outputs": [
    {
     "data": {
      "text/plain": [
       "Shakib         2000000\n",
       "Tamim            10000\n",
       "Masrafee        300003\n",
       "Musfique        438292\n",
       "Mahmudullah     543932\n",
       "dtype: int64"
      ]
     },
     "execution_count": 5,
     "metadata": {},
     "output_type": "execute_result"
    }
   ],
   "source": [
    "pd.Series([2000000,10000,300003,438292,543932],index=['Shakib','Tamim','Masrafee','Musfique','Mahmudullah'])"
   ]
  }
 ],
 "metadata": {
  "kernelspec": {
   "display_name": "Python 3",
   "language": "python",
   "name": "python3"
  },
  "language_info": {
   "codemirror_mode": {
    "name": "ipython",
    "version": 3
   },
   "file_extension": ".py",
   "mimetype": "text/x-python",
   "name": "python",
   "nbconvert_exporter": "python",
   "pygments_lexer": "ipython3",
   "version": "3.12.5"
  }
 },
 "nbformat": 4,
 "nbformat_minor": 5
}
