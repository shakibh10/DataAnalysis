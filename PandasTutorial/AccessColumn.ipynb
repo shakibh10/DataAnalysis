{
 "cells": [
  {
   "cell_type": "code",
   "execution_count": 1,
   "id": "37d34df2",
   "metadata": {},
   "outputs": [],
   "source": [
    "import pandas as pd "
   ]
  },
  {
   "cell_type": "code",
   "execution_count": 3,
   "id": "b03510c0",
   "metadata": {},
   "outputs": [
    {
     "data": {
      "text/html": [
       "<div>\n",
       "<style scoped>\n",
       "    .dataframe tbody tr th:only-of-type {\n",
       "        vertical-align: middle;\n",
       "    }\n",
       "\n",
       "    .dataframe tbody tr th {\n",
       "        vertical-align: top;\n",
       "    }\n",
       "\n",
       "    .dataframe thead th {\n",
       "        text-align: right;\n",
       "    }\n",
       "</style>\n",
       "<table border=\"1\" class=\"dataframe\">\n",
       "  <thead>\n",
       "    <tr style=\"text-align: right;\">\n",
       "      <th></th>\n",
       "      <th>Yes</th>\n",
       "      <th>No</th>\n",
       "      <th>both</th>\n",
       "    </tr>\n",
       "  </thead>\n",
       "  <tbody>\n",
       "    <tr>\n",
       "      <th>0</th>\n",
       "      <td>50</td>\n",
       "      <td>131</td>\n",
       "      <td>20</td>\n",
       "    </tr>\n",
       "    <tr>\n",
       "      <th>1</th>\n",
       "      <td>21</td>\n",
       "      <td>2</td>\n",
       "      <td>2</td>\n",
       "    </tr>\n",
       "  </tbody>\n",
       "</table>\n",
       "</div>"
      ],
      "text/plain": [
       "   Yes   No  both\n",
       "0   50  131    20\n",
       "1   21    2     2"
      ]
     },
     "execution_count": 3,
     "metadata": {},
     "output_type": "execute_result"
    }
   ],
   "source": [
    "pd.DataFrame({'Yes': [50, 21], 'No': [131, 2],'both': [20, 2]},\n",
    "             index=[0, 1])"
   ]
  },
  {
   "cell_type": "code",
   "execution_count": 4,
   "id": "c326a802",
   "metadata": {},
   "outputs": [
    {
     "data": {
      "text/html": [
       "<div>\n",
       "<style scoped>\n",
       "    .dataframe tbody tr th:only-of-type {\n",
       "        vertical-align: middle;\n",
       "    }\n",
       "\n",
       "    .dataframe tbody tr th {\n",
       "        vertical-align: top;\n",
       "    }\n",
       "\n",
       "    .dataframe thead th {\n",
       "        text-align: right;\n",
       "    }\n",
       "</style>\n",
       "<table border=\"1\" class=\"dataframe\">\n",
       "  <thead>\n",
       "    <tr style=\"text-align: right;\">\n",
       "      <th></th>\n",
       "      <th>Model</th>\n",
       "      <th>Operating System</th>\n",
       "      <th>Connectivity</th>\n",
       "      <th>Display Type</th>\n",
       "      <th>Display Size (inches)</th>\n",
       "      <th>Resolution</th>\n",
       "      <th>Water Resistance (meters)</th>\n",
       "      <th>Battery Life (days)</th>\n",
       "      <th>Heart Rate Monitor</th>\n",
       "      <th>GPS</th>\n",
       "      <th>NFC</th>\n",
       "      <th>Price (USD)</th>\n",
       "    </tr>\n",
       "    <tr>\n",
       "      <th>Brand</th>\n",
       "      <th></th>\n",
       "      <th></th>\n",
       "      <th></th>\n",
       "      <th></th>\n",
       "      <th></th>\n",
       "      <th></th>\n",
       "      <th></th>\n",
       "      <th></th>\n",
       "      <th></th>\n",
       "      <th></th>\n",
       "      <th></th>\n",
       "      <th></th>\n",
       "    </tr>\n",
       "  </thead>\n",
       "  <tbody>\n",
       "    <tr>\n",
       "      <th>Apple</th>\n",
       "      <td>Watch Series 7</td>\n",
       "      <td>watchOS</td>\n",
       "      <td>Bluetooth, Wi-Fi, Cellular</td>\n",
       "      <td>Retina</td>\n",
       "      <td>1.90</td>\n",
       "      <td>396 x 484</td>\n",
       "      <td>50</td>\n",
       "      <td>18</td>\n",
       "      <td>Yes</td>\n",
       "      <td>Yes</td>\n",
       "      <td>Yes</td>\n",
       "      <td>$399</td>\n",
       "    </tr>\n",
       "    <tr>\n",
       "      <th>Samsung</th>\n",
       "      <td>Galaxy Watch 4</td>\n",
       "      <td>Wear OS</td>\n",
       "      <td>Bluetooth, Wi-Fi, Cellular</td>\n",
       "      <td>AMOLED</td>\n",
       "      <td>1.40</td>\n",
       "      <td>450 x 450</td>\n",
       "      <td>50</td>\n",
       "      <td>40</td>\n",
       "      <td>Yes</td>\n",
       "      <td>Yes</td>\n",
       "      <td>Yes</td>\n",
       "      <td>$249</td>\n",
       "    </tr>\n",
       "    <tr>\n",
       "      <th>...</th>\n",
       "      <td>...</td>\n",
       "      <td>...</td>\n",
       "      <td>...</td>\n",
       "      <td>...</td>\n",
       "      <td>...</td>\n",
       "      <td>...</td>\n",
       "      <td>...</td>\n",
       "      <td>...</td>\n",
       "      <td>...</td>\n",
       "      <td>...</td>\n",
       "      <td>...</td>\n",
       "      <td>...</td>\n",
       "    </tr>\n",
       "    <tr>\n",
       "      <th>Oppo</th>\n",
       "      <td>Watch Free</td>\n",
       "      <td>ColorOS</td>\n",
       "      <td>Bluetooth, Wi-Fi</td>\n",
       "      <td>AMOLED</td>\n",
       "      <td>1.64</td>\n",
       "      <td>326 x 326</td>\n",
       "      <td>50</td>\n",
       "      <td>14</td>\n",
       "      <td>Yes</td>\n",
       "      <td>No</td>\n",
       "      <td>Yes</td>\n",
       "      <td>$159</td>\n",
       "    </tr>\n",
       "    <tr>\n",
       "      <th>TicWatch</th>\n",
       "      <td>Pro 3</td>\n",
       "      <td>Wear OS</td>\n",
       "      <td>Bluetooth, Wi-Fi, Cellular</td>\n",
       "      <td>AMOLED</td>\n",
       "      <td>1.40</td>\n",
       "      <td>454 x 454</td>\n",
       "      <td>50</td>\n",
       "      <td>72</td>\n",
       "      <td>Yes</td>\n",
       "      <td>Yes</td>\n",
       "      <td>Yes</td>\n",
       "      <td>$299</td>\n",
       "    </tr>\n",
       "  </tbody>\n",
       "</table>\n",
       "<p>379 rows × 12 columns</p>\n",
       "</div>"
      ],
      "text/plain": [
       "                   Model Operating System                Connectivity  \\\n",
       "Brand                                                                   \n",
       "Apple     Watch Series 7          watchOS  Bluetooth, Wi-Fi, Cellular   \n",
       "Samsung   Galaxy Watch 4          Wear OS  Bluetooth, Wi-Fi, Cellular   \n",
       "...                  ...              ...                         ...   \n",
       "Oppo          Watch Free          ColorOS            Bluetooth, Wi-Fi   \n",
       "TicWatch           Pro 3          Wear OS  Bluetooth, Wi-Fi, Cellular   \n",
       "\n",
       "         Display Type  Display Size (inches) Resolution  \\\n",
       "Brand                                                     \n",
       "Apple          Retina                   1.90  396 x 484   \n",
       "Samsung        AMOLED                   1.40  450 x 450   \n",
       "...               ...                    ...        ...   \n",
       "Oppo           AMOLED                   1.64  326 x 326   \n",
       "TicWatch       AMOLED                   1.40  454 x 454   \n",
       "\n",
       "         Water Resistance (meters) Battery Life (days) Heart Rate Monitor  \\\n",
       "Brand                                                                       \n",
       "Apple                           50                  18                Yes   \n",
       "Samsung                         50                  40                Yes   \n",
       "...                            ...                 ...                ...   \n",
       "Oppo                            50                  14                Yes   \n",
       "TicWatch                        50                  72                Yes   \n",
       "\n",
       "          GPS  NFC Price (USD)  \n",
       "Brand                           \n",
       "Apple     Yes  Yes       $399   \n",
       "Samsung   Yes  Yes       $249   \n",
       "...       ...  ...         ...  \n",
       "Oppo       No  Yes       $159   \n",
       "TicWatch  Yes  Yes       $299   \n",
       "\n",
       "[379 rows x 12 columns]"
      ]
     },
     "execution_count": 4,
     "metadata": {},
     "output_type": "execute_result"
    }
   ],
   "source": [
    "smart_watches =  pd.read_csv('C:/Users/HP/.cache/kagglehub/datasets/rkiattisak/smart-watch-prices/versions/1/smart watch prices.csv',\n",
    "                             index_col=0)\n",
    "\n",
    "pd.set_option('display.max_rows',4) # Display maximum 4 rows of a dataframe\n",
    "\n",
    "smart_watches"
   ]
  },
  {
   "cell_type": "code",
   "execution_count": 5,
   "id": "7e70f61f",
   "metadata": {},
   "outputs": [
    {
     "data": {
      "text/plain": [
       "Brand\n",
       "Apple       Watch Series 7\n",
       "Samsung     Galaxy Watch 4\n",
       "                 ...      \n",
       "Oppo            Watch Free\n",
       "TicWatch             Pro 3\n",
       "Name: Model, Length: 379, dtype: object"
      ]
     },
     "execution_count": 5,
     "metadata": {},
     "output_type": "execute_result"
    }
   ],
   "source": [
    "smart_watches.Model"
   ]
  },
  {
   "cell_type": "code",
   "execution_count": null,
   "id": "ff6f31f3",
   "metadata": {},
   "outputs": [
    {
     "data": {
      "text/plain": [
       "Brand\n",
       "Apple       Bluetooth, Wi-Fi, Cellular\n",
       "Samsung     Bluetooth, Wi-Fi, Cellular\n",
       "                       ...            \n",
       "Oppo                  Bluetooth, Wi-Fi\n",
       "TicWatch    Bluetooth, Wi-Fi, Cellular\n",
       "Name: Connectivity, Length: 379, dtype: object"
      ]
     },
     "execution_count": 11,
     "metadata": {},
     "output_type": "execute_result"
    }
   ],
   "source": [
    "smart_watches.Connectivity # we can access a column using dot notation"
   ]
  },
  {
   "cell_type": "code",
   "execution_count": null,
   "id": "2ec03fee",
   "metadata": {},
   "outputs": [
    {
     "data": {
      "text/plain": [
       "Brand\n",
       "Apple       Bluetooth, Wi-Fi, Cellular\n",
       "Samsung     Bluetooth, Wi-Fi, Cellular\n",
       "                       ...            \n",
       "Oppo                  Bluetooth, Wi-Fi\n",
       "TicWatch    Bluetooth, Wi-Fi, Cellular\n",
       "Name: Connectivity, Length: 379, dtype: object"
      ]
     },
     "execution_count": 12,
     "metadata": {},
     "output_type": "execute_result"
    }
   ],
   "source": [
    "smart_watches['Connectivity'] # Alternative way to access a column"
   ]
  },
  {
   "cell_type": "code",
   "execution_count": 18,
   "id": "4194f27b",
   "metadata": {},
   "outputs": [
    {
     "name": "stderr",
     "output_type": "stream",
     "text": [
      "C:\\Users\\HP\\AppData\\Local\\Temp\\ipykernel_26928\\1955007003.py:1: FutureWarning: Series.__getitem__ treating keys as positions is deprecated. In a future version, integer keys will always be treated as labels (consistent with DataFrame behavior). To access a value by position, use `ser.iloc[pos]`\n",
      "  smart_watches['Connectivity'][5] # Accessing a specific value in a column\n"
     ]
    },
    {
     "data": {
      "text/plain": [
       "'Bluetooth, Wi-Fi, Cellular'"
      ]
     },
     "execution_count": 18,
     "metadata": {},
     "output_type": "execute_result"
    }
   ],
   "source": [
    "smart_watches['Connectivity'][5] # Accessing a specific value in a column"
   ]
  }
 ],
 "metadata": {
  "kernelspec": {
   "display_name": "Python 3",
   "language": "python",
   "name": "python3"
  },
  "language_info": {
   "codemirror_mode": {
    "name": "ipython",
    "version": 3
   },
   "file_extension": ".py",
   "mimetype": "text/x-python",
   "name": "python",
   "nbconvert_exporter": "python",
   "pygments_lexer": "ipython3",
   "version": "3.12.5"
  }
 },
 "nbformat": 4,
 "nbformat_minor": 5
}
