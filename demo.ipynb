{
 "cells": [
  {
   "cell_type": "code",
   "execution_count": null,
   "id": "ee5b81bc",
   "metadata": {},
   "outputs": [
    {
     "name": "stdout",
     "output_type": "stream",
     "text": [
      "Sum :  10\n"
     ]
    }
   ],
   "source": [
    "a =3 \n",
    "b= 7\n",
    "c=a+b\n",
    "print(\"Sum : \",c)"
   ]
  },
  {
   "cell_type": "markdown",
   "id": "d40175ed",
   "metadata": {},
   "source": [
    "Multiplication \n"
   ]
  },
  {
   "cell_type": "code",
   "execution_count": 1,
   "id": "b48763b0",
   "metadata": {},
   "outputs": [
    {
     "name": "stdout",
     "output_type": "stream",
     "text": [
      "Multiplication :  20\n"
     ]
    }
   ],
   "source": [
    "x=4 \n",
    "y=5\n",
    "z=x*y\n",
    "print(\"Multiplication : \",z)"
   ]
  },
  {
   "cell_type": "code",
   "execution_count": 4,
   "id": "315b6acb",
   "metadata": {},
   "outputs": [
    {
     "name": "stdout",
     "output_type": "stream",
     "text": [
      "We are :  Shakib Hasan and Sanjida Rahman Jui\n"
     ]
    }
   ],
   "source": [
    "x= \"Shakib Hasan\"\n",
    "y= \"Sanjida Rahman Jui\"\n",
    "\n",
    "print(\"We are : \", x ,\"and\", y)"
   ]
  }
 ],
 "metadata": {
  "kernelspec": {
   "display_name": "Python 3",
   "language": "python",
   "name": "python3"
  },
  "language_info": {
   "codemirror_mode": {
    "name": "ipython",
    "version": 3
   },
   "file_extension": ".py",
   "mimetype": "text/x-python",
   "name": "python",
   "nbconvert_exporter": "python",
   "pygments_lexer": "ipython3",
   "version": "3.12.5"
  }
 },
 "nbformat": 4,
 "nbformat_minor": 5
}
