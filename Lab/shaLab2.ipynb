{
 "cells": [
  {
   "cell_type": "code",
   "execution_count": 1,
   "id": "9512ce49",
   "metadata": {},
   "outputs": [
    {
     "name": "stdout",
     "output_type": "stream",
     "text": [
      "p     2\n",
      "q    15\n",
      "r    28\n",
      "s    30\n",
      "t    75\n",
      "dtype: int64\n"
     ]
    }
   ],
   "source": [
    "import pandas as pd\n",
    "\n",
    "data = [2,15,28,30,75]\n",
    "s = pd.Series(data, index=['p', 'q', 'r', 's','t'])\n",
    "print(s)"
   ]
  },
  {
   "cell_type": "code",
   "execution_count": null,
   "id": "a964355c",
   "metadata": {},
   "outputs": [
    {
     "name": "stdout",
     "output_type": "stream",
     "text": [
      "     Name  Age        City\n",
      "0  Shakib   23       Dhaka\n",
      "1   Sohan   21    Rajshahi\n",
      "2   Rasel   26    Chandpur\n",
      "3   Milon   24  Panchagarh\n"
     ]
    }
   ],
   "source": [
    "import pandas as pd  \n",
    "\n",
    "data = {\n",
    "    'Name': ['Shakib', 'Sohan', 'Rasel', 'Milon'],\n",
    "    'Age': [16, 21, 26, 24],\n",
    "    'City': ['Dhaka', 'Rajshahi', 'Chandpur', 'Panchagarh']\n",
    "}\n",
    "\n",
    "df = pd.DataFrame(data)\n",
    "print(df)\n"
   ]
  },
  {
   "cell_type": "code",
   "execution_count": 1,
   "id": "4a9372f2",
   "metadata": {},
   "outputs": [
    {
     "ename": "NameError",
     "evalue": "name 'df' is not defined",
     "output_type": "error",
     "traceback": [
      "\u001b[31m---------------------------------------------------------------------------\u001b[39m",
      "\u001b[31mNameError\u001b[39m                                 Traceback (most recent call last)",
      "\u001b[36mCell\u001b[39m\u001b[36m \u001b[39m\u001b[32mIn[1]\u001b[39m\u001b[32m, line 1\u001b[39m\n\u001b[32m----> \u001b[39m\u001b[32m1\u001b[39m column = \u001b[43mdf\u001b[49m[\u001b[33m'\u001b[39m\u001b[33mAge\u001b[39m\u001b[33m'\u001b[39m]\n\u001b[32m      2\u001b[39m \u001b[38;5;28mprint\u001b[39m(column)\n",
      "\u001b[31mNameError\u001b[39m: name 'df' is not defined"
     ]
    }
   ],
   "source": [
    "column = df['Age']\n",
    "print(column)"
   ]
  },
  {
   "cell_type": "code",
   "execution_count": 5,
   "id": "a653d289",
   "metadata": {},
   "outputs": [
    {
     "name": "stdout",
     "output_type": "stream",
     "text": [
      "Name       Sohan\n",
      "Age           21\n",
      "City    Rajshahi\n",
      "Name: 1, dtype: object\n"
     ]
    }
   ],
   "source": [
    "row = df.loc[1]  \n",
    "print(row) "
   ]
  },
  {
   "cell_type": "code",
   "execution_count": 7,
   "id": "6350b346",
   "metadata": {},
   "outputs": [
    {
     "name": "stdout",
     "output_type": "stream",
     "text": [
      "    Name        City\n",
      "1  Sohan    Rajshahi\n",
      "2  Rasel    Chandpur\n",
      "3  Milon  Panchagarh\n"
     ]
    }
   ],
   "source": [
    "subset = df.loc[1:3, ['Name', 'City']]  \n",
    "print(subset)"
   ]
  },
  {
   "cell_type": "code",
   "execution_count": 8,
   "id": "d977f878",
   "metadata": {},
   "outputs": [
    {
     "data": {
      "text/html": [
       "<div>\n",
       "<style scoped>\n",
       "    .dataframe tbody tr th:only-of-type {\n",
       "        vertical-align: middle;\n",
       "    }\n",
       "\n",
       "    .dataframe tbody tr th {\n",
       "        vertical-align: top;\n",
       "    }\n",
       "\n",
       "    .dataframe thead th {\n",
       "        text-align: right;\n",
       "    }\n",
       "</style>\n",
       "<table border=\"1\" class=\"dataframe\">\n",
       "  <thead>\n",
       "    <tr style=\"text-align: right;\">\n",
       "      <th></th>\n",
       "      <th>Name</th>\n",
       "      <th>Age</th>\n",
       "      <th>City</th>\n",
       "    </tr>\n",
       "  </thead>\n",
       "  <tbody>\n",
       "    <tr>\n",
       "      <th>0</th>\n",
       "      <td>False</td>\n",
       "      <td>False</td>\n",
       "      <td>False</td>\n",
       "    </tr>\n",
       "    <tr>\n",
       "      <th>1</th>\n",
       "      <td>False</td>\n",
       "      <td>False</td>\n",
       "      <td>False</td>\n",
       "    </tr>\n",
       "    <tr>\n",
       "      <th>2</th>\n",
       "      <td>False</td>\n",
       "      <td>False</td>\n",
       "      <td>False</td>\n",
       "    </tr>\n",
       "    <tr>\n",
       "      <th>3</th>\n",
       "      <td>False</td>\n",
       "      <td>False</td>\n",
       "      <td>False</td>\n",
       "    </tr>\n",
       "  </tbody>\n",
       "</table>\n",
       "</div>"
      ],
      "text/plain": [
       "    Name    Age   City\n",
       "0  False  False  False\n",
       "1  False  False  False\n",
       "2  False  False  False\n",
       "3  False  False  False"
      ]
     },
     "execution_count": 8,
     "metadata": {},
     "output_type": "execute_result"
    }
   ],
   "source": [
    "df.isnull()\n"
   ]
  },
  {
   "cell_type": "code",
   "execution_count": 9,
   "id": "f4c9dd00",
   "metadata": {},
   "outputs": [
    {
     "data": {
      "text/html": [
       "<div>\n",
       "<style scoped>\n",
       "    .dataframe tbody tr th:only-of-type {\n",
       "        vertical-align: middle;\n",
       "    }\n",
       "\n",
       "    .dataframe tbody tr th {\n",
       "        vertical-align: top;\n",
       "    }\n",
       "\n",
       "    .dataframe thead th {\n",
       "        text-align: right;\n",
       "    }\n",
       "</style>\n",
       "<table border=\"1\" class=\"dataframe\">\n",
       "  <thead>\n",
       "    <tr style=\"text-align: right;\">\n",
       "      <th></th>\n",
       "      <th>Name</th>\n",
       "      <th>Age</th>\n",
       "      <th>City</th>\n",
       "    </tr>\n",
       "  </thead>\n",
       "  <tbody>\n",
       "    <tr>\n",
       "      <th>0</th>\n",
       "      <td>Shakib</td>\n",
       "      <td>23</td>\n",
       "      <td>Dhaka</td>\n",
       "    </tr>\n",
       "    <tr>\n",
       "      <th>1</th>\n",
       "      <td>Sohan</td>\n",
       "      <td>21</td>\n",
       "      <td>Rajshahi</td>\n",
       "    </tr>\n",
       "    <tr>\n",
       "      <th>2</th>\n",
       "      <td>Rasel</td>\n",
       "      <td>26</td>\n",
       "      <td>Chandpur</td>\n",
       "    </tr>\n",
       "    <tr>\n",
       "      <th>3</th>\n",
       "      <td>Milon</td>\n",
       "      <td>24</td>\n",
       "      <td>Panchagarh</td>\n",
       "    </tr>\n",
       "  </tbody>\n",
       "</table>\n",
       "</div>"
      ],
      "text/plain": [
       "     Name  Age        City\n",
       "0  Shakib   23       Dhaka\n",
       "1   Sohan   21    Rajshahi\n",
       "2   Rasel   26    Chandpur\n",
       "3   Milon   24  Panchagarh"
      ]
     },
     "execution_count": 9,
     "metadata": {},
     "output_type": "execute_result"
    }
   ],
   "source": [
    "df.fillna(0, inplace=True)\n",
    "df"
   ]
  },
  {
   "cell_type": "code",
   "execution_count": 10,
   "id": "b9d5baeb",
   "metadata": {},
   "outputs": [],
   "source": [
    "df.dropna(inplace=True)"
   ]
  },
  {
   "cell_type": "code",
   "execution_count": 11,
   "id": "00b26a57",
   "metadata": {},
   "outputs": [
    {
     "name": "stdout",
     "output_type": "stream",
     "text": [
      "             Age\n",
      "            mean\n",
      "City            \n",
      "Chandpur    26.0\n",
      "Dhaka       23.0\n",
      "Panchagarh  24.0\n",
      "Rajshahi    21.0\n"
     ]
    }
   ],
   "source": [
    "grouped = df.groupby('City').agg({'Age': ['mean']})\n",
    "print(grouped)"
   ]
  },
  {
   "cell_type": "code",
   "execution_count": 12,
   "id": "827e50aa",
   "metadata": {},
   "outputs": [
    {
     "name": "stdout",
     "output_type": "stream",
     "text": [
      "             Age        \n",
      "            mean min max\n",
      "City                    \n",
      "Chandpur    26.0  26  26\n",
      "Dhaka       23.0  23  23\n",
      "Panchagarh  24.0  24  24\n",
      "Rajshahi    21.0  21  21\n"
     ]
    }
   ],
   "source": [
    "grouped = df.groupby('City').agg({'Age': ['mean', 'min', 'max']})\n",
    "print(grouped)"
   ]
  }
 ],
 "metadata": {
  "kernelspec": {
   "display_name": "Python 3",
   "language": "python",
   "name": "python3"
  },
  "language_info": {
   "codemirror_mode": {
    "name": "ipython",
    "version": 3
   },
   "file_extension": ".py",
   "mimetype": "text/x-python",
   "name": "python",
   "nbconvert_exporter": "python",
   "pygments_lexer": "ipython3",
   "version": "3.12.5"
  }
 },
 "nbformat": 4,
 "nbformat_minor": 5
}
